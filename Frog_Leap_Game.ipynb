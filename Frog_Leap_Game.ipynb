{
  "nbformat": 4,
  "nbformat_minor": 0,
  "metadata": {
    "colab": {
      "provenance": [],
      "authorship_tag": "ABX9TyOWGY0zBJBwjyl4nkhsCHwA",
      "include_colab_link": true
    },
    "kernelspec": {
      "name": "python3",
      "display_name": "Python 3"
    },
    "language_info": {
      "name": "python"
    }
  },
  "cells": [
    {
      "cell_type": "markdown",
      "metadata": {
        "id": "view-in-github",
        "colab_type": "text"
      },
      "source": [
        "<a href=\"https://colab.research.google.com/github/Deeksha0209/Frog-Leap-Game/blob/main/Frog_Leap_Game.ipynb\" target=\"_parent\"><img src=\"https://colab.research.google.com/assets/colab-badge.svg\" alt=\"Open In Colab\"/></a>"
      ]
    },
    {
      "cell_type": "code",
      "execution_count": null,
      "metadata": {
        "colab": {
          "base_uri": "https://localhost:8080/"
        },
        "id": "2q3vWn6iNIny",
        "outputId": "d604c461-7bdf-4180-ec6d-cd2395e920a8"
      },
      "outputs": [
        {
          "output_type": "stream",
          "name": "stdout",
          "text": [
            "[ 0 ,  1 ,  2 ,  3 ,  4 ,  5 ,  6 ]\n",
            "['G', 'G', 'G', '-', 'B', 'B', 'B']\n",
            "Press q to quit else \n",
            "Enter position of piece: 2\n",
            "['G', 'G', '-', 'G', 'B', 'B', 'B']\n",
            "Press q to quit else \n",
            "Enter position of piece: 4\n",
            "['G', 'G', 'B', 'G', '-', 'B', 'B']\n",
            "Press q to quit else \n",
            "Enter position of piece: 5\n",
            "['G', 'G', 'B', 'G', 'B', '-', 'B']\n",
            "Press q to quit else \n",
            "Enter position of piece: 3\n",
            "['G', 'G', 'B', '-', 'B', 'G', 'B']\n",
            "Press q to quit else \n",
            "Enter position of piece: 1\n",
            "['G', '-', 'B', 'G', 'B', 'G', 'B']\n",
            "Press q to quit else \n",
            "Enter position of piece: 0\n",
            "['-', 'G', 'B', 'G', 'B', 'G', 'B']\n",
            "Press q to quit else \n",
            "Enter position of piece: 2\n",
            "['B', 'G', '-', 'G', 'B', 'G', 'B']\n",
            "Press q to quit else \n",
            "Enter position of piece: 4\n",
            "['B', 'G', 'B', 'G', '-', 'G', 'B']\n",
            "Press q to quit else \n",
            "Enter position of piece: 6\n",
            "['B', 'G', 'B', 'G', 'B', 'G', '-']\n",
            "Press q to quit else \n",
            "Enter position of piece: 5\n",
            "['B', 'G', 'B', 'G', 'B', '-', 'G']\n",
            "Press q to quit else \n",
            "Enter position of piece: 3\n",
            "['B', 'G', 'B', '-', 'B', 'G', 'G']\n",
            "Press q to quit else \n",
            "Enter position of piece: 1\n",
            "['B', '-', 'B', 'G', 'B', 'G', 'G']\n",
            "Press q to quit else \n",
            "Enter position of piece: 2\n",
            "['B', 'B', '-', 'G', 'B', 'G', 'G']\n",
            "Press q to quit else \n",
            "Enter position of piece: 4\n",
            "['B', 'B', 'B', 'G', '-', 'G', 'G']\n",
            "Press q to quit else \n",
            "Enter position of piece: 3\n",
            "['B', 'B', 'B', '-', 'G', 'G', 'G']\n",
            "You Win!\n"
          ]
        }
      ],
      "source": [
        "print(\"[ 0 ,  1 ,  2 ,  3 ,  4 ,  5 ,  6 ]\")\n",
        "positions = ['G', 'G', 'G', '-', 'B', 'B', 'B']\n",
        "\n",
        "while True:\n",
        "        print(positions)\n",
        "\n",
        "        # step1\n",
        "        pos = input(\"Press q to quit else \\nEnter position of piece: \")\n",
        "\n",
        "\n",
        "        if pos == 'q':\n",
        "            print('You Lose')\n",
        "            break\n",
        "\n",
        "\n",
        "        pos = int(pos)\n",
        "\n",
        "        #step2\n",
        "        if pos < 0 or pos > 6:\n",
        "            print('Invalid Move')\n",
        "            continue\n",
        "\n",
        "\n",
        "        if positions[pos] == '-':\n",
        "            print('Invalid Move')\n",
        "            continue\n",
        "\n",
        "         #step3\n",
        "        pos2 = 0\n",
        "\n",
        "        if positions[pos] == 'G':\n",
        "            if pos + 1 <= 6 and positions[pos + 1] == '-':\n",
        "                pos2 = pos + 1\n",
        "            elif pos + 2 <= 6 and positions[pos + 2] == '-' and positions[pos + 1] == 'B':\n",
        "                pos2 = pos + 2\n",
        "            else:\n",
        "                print('Invalid Move')\n",
        "                continue\n",
        "        elif positions[pos] == 'B':\n",
        "            if pos - 1 >= 0 and positions[pos - 1] == '-':\n",
        "                pos2 = pos - 1\n",
        "            elif pos - 2 >= 0 and positions[pos - 2] == '-' and positions[pos - 1] == 'G':\n",
        "                pos2 = pos - 2\n",
        "            else:\n",
        "                print('Invalid Move')\n",
        "                continue\n",
        "\n",
        "        #step4\n",
        "        positions[pos], positions[pos2] = positions[pos2], positions[pos]\n",
        "\n",
        "        #step5\n",
        "        if positions == ['B', 'B', 'B', '-', 'G', 'G', 'G']:\n",
        "            print(positions)\n",
        "            print('You Win!')\n",
        "            break\n",
        "        if positions == ['G', 'G', 'G', 'B', 'B', 'B', '-'] or positions == ['-', 'G', 'G', 'G', 'B', 'B', 'B']:\n",
        "            print(positions)\n",
        "            print('You Lost the Game.')\n",
        "            break"
      ]
    }
  ]
}